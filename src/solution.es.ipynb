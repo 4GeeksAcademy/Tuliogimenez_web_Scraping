{
    "cells": [
        {
            "cell_type": "markdown",
            "metadata": {},
            "source": [
                "# Solución de raspado web"
            ]
        },
        {
            "cell_type": "markdown",
            "metadata": {},
            "source": [
                "## Paso 1: Instalar dependencias"
            ]
        },
        {
            "cell_type": "code",
            "execution_count": 2,
            "metadata": {},
            "outputs": [
                {
                    "name": "stdout",
                    "output_type": "stream",
                    "text": [
                        "Defaulting to user installation because normal site-packages is not writeable\n",
                        "Requirement already satisfied: pandas in /home/vscode/.local/lib/python3.11/site-packages (2.3.0)\n",
                        "Requirement already satisfied: requests in /home/vscode/.local/lib/python3.11/site-packages (2.27.1)\n",
                        "Requirement already satisfied: lxml in /home/vscode/.local/lib/python3.11/site-packages (5.4.0)\n",
                        "Requirement already satisfied: numpy>=1.23.2 in /home/vscode/.local/lib/python3.11/site-packages (from pandas) (2.3.0)\n",
                        "Requirement already satisfied: python-dateutil>=2.8.2 in /home/vscode/.local/lib/python3.11/site-packages (from pandas) (2.9.0.post0)\n",
                        "Requirement already satisfied: pytz>=2020.1 in /home/vscode/.local/lib/python3.11/site-packages (from pandas) (2025.2)\n",
                        "Requirement already satisfied: tzdata>=2022.7 in /home/vscode/.local/lib/python3.11/site-packages (from pandas) (2025.2)\n",
                        "Requirement already satisfied: urllib3<1.27,>=1.21.1 in /home/vscode/.local/lib/python3.11/site-packages (from requests) (1.26.20)\n",
                        "Requirement already satisfied: certifi>=2017.4.17 in /home/vscode/.local/lib/python3.11/site-packages (from requests) (2025.6.15)\n",
                        "Requirement already satisfied: charset-normalizer~=2.0.0 in /home/vscode/.local/lib/python3.11/site-packages (from requests) (2.0.12)\n",
                        "Requirement already satisfied: idna<4,>=2.5 in /home/vscode/.local/lib/python3.11/site-packages (from requests) (3.10)\n",
                        "Requirement already satisfied: six>=1.5 in /home/vscode/.local/lib/python3.11/site-packages (from python-dateutil>=2.8.2->pandas) (1.17.0)\n",
                        "\n",
                        "\u001b[1m[\u001b[0m\u001b[34;49mnotice\u001b[0m\u001b[1;39;49m]\u001b[0m\u001b[39;49m A new release of pip is available: \u001b[0m\u001b[31;49m23.1.2\u001b[0m\u001b[39;49m -> \u001b[0m\u001b[32;49m25.1.1\u001b[0m\n",
                        "\u001b[1m[\u001b[0m\u001b[34;49mnotice\u001b[0m\u001b[1;39;49m]\u001b[0m\u001b[39;49m To update, run: \u001b[0m\u001b[32;49mpip install --upgrade pip\u001b[0m\n",
                        "Note: you may need to restart the kernel to use updated packages.\n"
                    ]
                }
            ],
            "source": [
                "pip install pandas requests lxml"
            ]
        },
        {
            "cell_type": "markdown",
            "metadata": {},
            "source": [
                "## Paso 2: Descargar HTML"
            ]
        },
        {
            "cell_type": "code",
            "execution_count": 3,
            "metadata": {},
            "outputs": [
                {
                    "name": "stdout",
                    "output_type": "stream",
                    "text": [
                        "Estado: 200\n"
                    ]
                }
            ],
            "source": [
                "import requests\n",
                "from bs4 import BeautifulSoup\n",
                "import pandas as pd\n",
                "import sqlite3\n",
                "import matplotlib.pyplot as plt\n",
                "import seaborn as sns\n",
                "import io\n",
                "\n",
                "# Obtener el HTML\n",
                "url = \"https://en.wikipedia.org/wiki/List_of_most-streamed_songs_on_Spotify\"\n",
                "response = requests.get(url)\n",
                "# Verificamos la respuesta\n",
                "print(\"Estado:\", response.status_code)"
            ]
        },
        {
            "cell_type": "markdown",
            "metadata": {},
            "source": [
                "## Paso 3: Transformar el HTML"
            ]
        },
        {
            "cell_type": "code",
            "execution_count": 4,
            "metadata": {},
            "outputs": [
                {
                    "name": "stdout",
                    "output_type": "stream",
                    "text": [
                        "Se encontraron 27 tablas.\n"
                    ]
                }
            ],
            "source": [
                "# Extraer las tablas con pandas\n",
                "html = io.StringIO(response.text)\n",
                "tables = pd.read_html(html)\n",
                "print(f\"Se encontraron {len(tables)} tablas.\")"
            ]
        },
        {
            "cell_type": "code",
            "execution_count": 5,
            "metadata": {},
            "outputs": [
                {
                    "data": {
                        "text/html": [
                            "<div>\n",
                            "<style scoped>\n",
                            "    .dataframe tbody tr th:only-of-type {\n",
                            "        vertical-align: middle;\n",
                            "    }\n",
                            "\n",
                            "    .dataframe tbody tr th {\n",
                            "        vertical-align: top;\n",
                            "    }\n",
                            "\n",
                            "    .dataframe thead th {\n",
                            "        text-align: right;\n",
                            "    }\n",
                            "</style>\n",
                            "<table border=\"1\" class=\"dataframe\">\n",
                            "  <thead>\n",
                            "    <tr style=\"text-align: right;\">\n",
                            "      <th></th>\n",
                            "      <th>Rank</th>\n",
                            "      <th>Song</th>\n",
                            "      <th>Artist(s)</th>\n",
                            "      <th>Streams (billions)</th>\n",
                            "      <th>Release date</th>\n",
                            "      <th>Ref.</th>\n",
                            "    </tr>\n",
                            "  </thead>\n",
                            "  <tbody>\n",
                            "    <tr>\n",
                            "      <th>0</th>\n",
                            "      <td>1</td>\n",
                            "      <td>\"Blinding Lights\"</td>\n",
                            "      <td>The Weeknd</td>\n",
                            "      <td>4.892</td>\n",
                            "      <td>29 November 2019</td>\n",
                            "      <td>[2]</td>\n",
                            "    </tr>\n",
                            "    <tr>\n",
                            "      <th>1</th>\n",
                            "      <td>2</td>\n",
                            "      <td>\"Shape of You\"</td>\n",
                            "      <td>Ed Sheeran</td>\n",
                            "      <td>4.416</td>\n",
                            "      <td>6 January 2017</td>\n",
                            "      <td>[3]</td>\n",
                            "    </tr>\n",
                            "    <tr>\n",
                            "      <th>2</th>\n",
                            "      <td>3</td>\n",
                            "      <td>\"Starboy\"</td>\n",
                            "      <td>The Weeknd and Daft Punk</td>\n",
                            "      <td>3.951</td>\n",
                            "      <td>21 September 2016</td>\n",
                            "      <td>[4]</td>\n",
                            "    </tr>\n",
                            "    <tr>\n",
                            "      <th>3</th>\n",
                            "      <td>4</td>\n",
                            "      <td>\"Someone You Loved\"</td>\n",
                            "      <td>Lewis Capaldi</td>\n",
                            "      <td>3.943</td>\n",
                            "      <td>8 November 2018</td>\n",
                            "      <td>[5]</td>\n",
                            "    </tr>\n",
                            "    <tr>\n",
                            "      <th>4</th>\n",
                            "      <td>5</td>\n",
                            "      <td>\"As It Was\"</td>\n",
                            "      <td>Harry Styles</td>\n",
                            "      <td>3.931</td>\n",
                            "      <td>1 April 2022</td>\n",
                            "      <td>[6]</td>\n",
                            "    </tr>\n",
                            "  </tbody>\n",
                            "</table>\n",
                            "</div>"
                        ],
                        "text/plain": [
                            "  Rank                 Song                 Artist(s) Streams (billions)  \\\n",
                            "0    1    \"Blinding Lights\"                The Weeknd              4.892   \n",
                            "1    2       \"Shape of You\"                Ed Sheeran              4.416   \n",
                            "2    3            \"Starboy\"  The Weeknd and Daft Punk              3.951   \n",
                            "3    4  \"Someone You Loved\"             Lewis Capaldi              3.943   \n",
                            "4    5          \"As It Was\"              Harry Styles              3.931   \n",
                            "\n",
                            "        Release date Ref.  \n",
                            "0   29 November 2019  [2]  \n",
                            "1     6 January 2017  [3]  \n",
                            "2  21 September 2016  [4]  \n",
                            "3    8 November 2018  [5]  \n",
                            "4       1 April 2022  [6]  "
                        ]
                    },
                    "execution_count": 5,
                    "metadata": {},
                    "output_type": "execute_result"
                }
            ],
            "source": [
                "# Inspeccionamos las primeras filas de la tabla correcta\n",
                "df = tables[0] # extrae la primera tabla de las 27 encontradas\n",
                "df.head()  # Muestra las primeras 5 filas"
            ]
        },
        {
            "cell_type": "markdown",
            "metadata": {},
            "source": [
                "## Paso 4: Procesar el marco de datos"
            ]
        },
        {
            "cell_type": "code",
            "execution_count": 6,
            "metadata": {},
            "outputs": [
                {
                    "data": {
                        "text/html": [
                            "<div>\n",
                            "<style scoped>\n",
                            "    .dataframe tbody tr th:only-of-type {\n",
                            "        vertical-align: middle;\n",
                            "    }\n",
                            "\n",
                            "    .dataframe tbody tr th {\n",
                            "        vertical-align: top;\n",
                            "    }\n",
                            "\n",
                            "    .dataframe thead th {\n",
                            "        text-align: right;\n",
                            "    }\n",
                            "</style>\n",
                            "<table border=\"1\" class=\"dataframe\">\n",
                            "  <thead>\n",
                            "    <tr style=\"text-align: right;\">\n",
                            "      <th></th>\n",
                            "      <th>Rank</th>\n",
                            "      <th>Song</th>\n",
                            "      <th>Artist</th>\n",
                            "      <th>Streams (billions)</th>\n",
                            "      <th>Date released</th>\n",
                            "      <th>Reference</th>\n",
                            "    </tr>\n",
                            "  </thead>\n",
                            "  <tbody>\n",
                            "    <tr>\n",
                            "      <th>0</th>\n",
                            "      <td>1</td>\n",
                            "      <td>\"Blinding Lights\"</td>\n",
                            "      <td>The Weeknd</td>\n",
                            "      <td>4.892</td>\n",
                            "      <td>2019-11-29</td>\n",
                            "      <td>[2]</td>\n",
                            "    </tr>\n",
                            "    <tr>\n",
                            "      <th>1</th>\n",
                            "      <td>2</td>\n",
                            "      <td>\"Shape of You\"</td>\n",
                            "      <td>Ed Sheeran</td>\n",
                            "      <td>4.416</td>\n",
                            "      <td>2017-01-06</td>\n",
                            "      <td>[3]</td>\n",
                            "    </tr>\n",
                            "    <tr>\n",
                            "      <th>2</th>\n",
                            "      <td>3</td>\n",
                            "      <td>\"Starboy\"</td>\n",
                            "      <td>The Weeknd and Daft Punk</td>\n",
                            "      <td>3.951</td>\n",
                            "      <td>2016-09-21</td>\n",
                            "      <td>[4]</td>\n",
                            "    </tr>\n",
                            "    <tr>\n",
                            "      <th>3</th>\n",
                            "      <td>4</td>\n",
                            "      <td>\"Someone You Loved\"</td>\n",
                            "      <td>Lewis Capaldi</td>\n",
                            "      <td>3.943</td>\n",
                            "      <td>2018-11-08</td>\n",
                            "      <td>[5]</td>\n",
                            "    </tr>\n",
                            "    <tr>\n",
                            "      <th>4</th>\n",
                            "      <td>5</td>\n",
                            "      <td>\"As It Was\"</td>\n",
                            "      <td>Harry Styles</td>\n",
                            "      <td>3.931</td>\n",
                            "      <td>2022-04-01</td>\n",
                            "      <td>[6]</td>\n",
                            "    </tr>\n",
                            "    <tr>\n",
                            "      <th>...</th>\n",
                            "      <td>...</td>\n",
                            "      <td>...</td>\n",
                            "      <td>...</td>\n",
                            "      <td>...</td>\n",
                            "      <td>...</td>\n",
                            "      <td>...</td>\n",
                            "    </tr>\n",
                            "    <tr>\n",
                            "      <th>95</th>\n",
                            "      <td>96</td>\n",
                            "      <td>\"Espresso\"</td>\n",
                            "      <td>Sabrina Carpenter</td>\n",
                            "      <td>2.333</td>\n",
                            "      <td>2024-04-11</td>\n",
                            "      <td>NaN</td>\n",
                            "    </tr>\n",
                            "    <tr>\n",
                            "      <th>96</th>\n",
                            "      <td>97</td>\n",
                            "      <td>\"Someone Like You\"</td>\n",
                            "      <td>Adele</td>\n",
                            "      <td>2.325</td>\n",
                            "      <td>2011-01-24</td>\n",
                            "      <td>[97]</td>\n",
                            "    </tr>\n",
                            "    <tr>\n",
                            "      <th>97</th>\n",
                            "      <td>98</td>\n",
                            "      <td>\"Too Good At Goodbyes\"</td>\n",
                            "      <td>Sam Smith</td>\n",
                            "      <td>2.324</td>\n",
                            "      <td>2017-09-08</td>\n",
                            "      <td>[98]</td>\n",
                            "    </tr>\n",
                            "    <tr>\n",
                            "      <th>98</th>\n",
                            "      <td>99</td>\n",
                            "      <td>\"Stay with Me\"</td>\n",
                            "      <td>Sam Smith</td>\n",
                            "      <td>2.314</td>\n",
                            "      <td>2014-04-14</td>\n",
                            "      <td>[99]</td>\n",
                            "    </tr>\n",
                            "    <tr>\n",
                            "      <th>99</th>\n",
                            "      <td>100</td>\n",
                            "      <td>\"Havana\"</td>\n",
                            "      <td>Camila Cabello and Young Thug</td>\n",
                            "      <td>2.305</td>\n",
                            "      <td>2017-08-03</td>\n",
                            "      <td>[100]</td>\n",
                            "    </tr>\n",
                            "  </tbody>\n",
                            "</table>\n",
                            "<p>100 rows × 6 columns</p>\n",
                            "</div>"
                        ],
                        "text/plain": [
                            "   Rank                    Song                         Artist  \\\n",
                            "0     1       \"Blinding Lights\"                     The Weeknd   \n",
                            "1     2          \"Shape of You\"                     Ed Sheeran   \n",
                            "2     3               \"Starboy\"       The Weeknd and Daft Punk   \n",
                            "3     4     \"Someone You Loved\"                  Lewis Capaldi   \n",
                            "4     5             \"As It Was\"                   Harry Styles   \n",
                            "..  ...                     ...                            ...   \n",
                            "95   96              \"Espresso\"              Sabrina Carpenter   \n",
                            "96   97      \"Someone Like You\"                          Adele   \n",
                            "97   98  \"Too Good At Goodbyes\"                      Sam Smith   \n",
                            "98   99          \"Stay with Me\"                      Sam Smith   \n",
                            "99  100                \"Havana\"  Camila Cabello and Young Thug   \n",
                            "\n",
                            "    Streams (billions) Date released Reference  \n",
                            "0                4.892    2019-11-29       [2]  \n",
                            "1                4.416    2017-01-06       [3]  \n",
                            "2                3.951    2016-09-21       [4]  \n",
                            "3                3.943    2018-11-08       [5]  \n",
                            "4                3.931    2022-04-01       [6]  \n",
                            "..                 ...           ...       ...  \n",
                            "95               2.333    2024-04-11       NaN  \n",
                            "96               2.325    2011-01-24      [97]  \n",
                            "97               2.324    2017-09-08      [98]  \n",
                            "98               2.314    2014-04-14      [99]  \n",
                            "99               2.305    2017-08-03     [100]  \n",
                            "\n",
                            "[100 rows x 6 columns]"
                        ]
                    },
                    "execution_count": 6,
                    "metadata": {},
                    "output_type": "execute_result"
                }
            ],
            "source": [
                "# Limpieza de datos\n",
                "\n",
                "# Renombramos columnas si es necesario\n",
                "df.columns = [\"Rank\", \"Song\", \"Artist\", \"Streams (billions)\", \"Date released\", \"Reference\"]\n",
                "\n",
                "# Eliminamos notas entre corchetes\n",
                "df[\"Song\"] = df[\"Song\"].str.replace(r\"\\[.*?\\]\", \"\", regex=True)\n",
                "df[\"Artist\"] = df[\"Artist\"].str.replace(r\"\\[.*?\\]\", \"\", regex=True)\n",
                "\n",
                "df = df[df[\"Streams (billions)\"].astype(str).str.contains(r\"^\\d+(?:\\.\\d+)?$\", na=False)].copy()\n",
                "\n",
                "# Convertimos Streams a números flotantes\n",
                "df[\"Streams (billions)\"] = df[\"Streams (billions)\"].astype(float)\n",
                "\n",
                "# Convertimos fechas a datetime\n",
                "df[\"Date released\"] = pd.to_datetime(df[\"Date released\"], errors=\"coerce\")\n",
                "\n",
                "df"
            ]
        },
        {
            "cell_type": "markdown",
            "metadata": {},
            "source": [
                "## Paso 5: almacenar los datos en sqlite"
            ]
        },
        {
            "cell_type": "code",
            "execution_count": 7,
            "metadata": {},
            "outputs": [],
            "source": [
                "# Create the database\n",
                "conn = sqlite3.connect(\"spotify_top_songs.db\")"
            ]
        },
        {
            "cell_type": "code",
            "execution_count": 8,
            "metadata": {},
            "outputs": [],
            "source": [
                "# Create table in SQLite\n",
                "df.to_sql(\"most_streamed\", conn, if_exists=\"replace\", index=False)\n",
                "cursor = conn.cursor()"
            ]
        },
        {
            "cell_type": "code",
            "execution_count": 9,
            "metadata": {},
            "outputs": [
                {
                    "name": "stdout",
                    "output_type": "stream",
                    "text": [
                        "Rows inserted: 100\n"
                    ]
                }
            ],
            "source": [
                "# Insert data into the database\n",
                "cursor.execute(\"SELECT COUNT(*) FROM most_streamed\")\n",
                "print(\"Rows inserted:\", cursor.fetchone()[0])\n",
                "\n",
                "conn.commit()\n",
                "conn.close()"
            ]
        },
        {
            "cell_type": "markdown",
            "metadata": {},
            "source": [
                "## Paso 6: Visualiza los datos"
            ]
        },
        {
            "cell_type": "markdown",
            "metadata": {},
            "source": [
                "### Análisis visual de la popularidad en Spotify"
            ]
        },
        {
            "cell_type": "code",
            "execution_count": null,
            "metadata": {},
            "outputs": [
                {
                    "ename": "NameError",
                    "evalue": "name 'df' is not defined",
                    "output_type": "error",
                    "traceback": [
                        "\u001b[31m---------------------------------------------------------------------------\u001b[39m",
                        "\u001b[31mNameError\u001b[39m                                 Traceback (most recent call last)",
                        "\u001b[36mCell\u001b[39m\u001b[36m \u001b[39m\u001b[32mIn[1]\u001b[39m\u001b[32m, line 4\u001b[39m\n\u001b[32m      1\u001b[39m \u001b[38;5;66;03m# Graficar los datos\u001b[39;00m\n\u001b[32m      2\u001b[39m \n\u001b[32m      3\u001b[39m \u001b[38;5;66;03m# Gráfico 1: Las 10 canciones más reproducidas\u001b[39;00m\n\u001b[32m----> \u001b[39m\u001b[32m4\u001b[39m top10 = \u001b[43mdf\u001b[49m.nlargest(\u001b[32m10\u001b[39m, \u001b[33m\"\u001b[39m\u001b[33mStreams (billions)\u001b[39m\u001b[33m\"\u001b[39m)\n\u001b[32m      5\u001b[39m plt.figure(figsize=(\u001b[32m12\u001b[39m, \u001b[32m6\u001b[39m))\n\u001b[32m      6\u001b[39m sns.barplot(data=top10, x=\u001b[33m\"\u001b[39m\u001b[33mStreams (billions)\u001b[39m\u001b[33m\"\u001b[39m, y=\u001b[33m\"\u001b[39m\u001b[33mSong\u001b[39m\u001b[33m\"\u001b[39m, hue=\u001b[33m\"\u001b[39m\u001b[33mSong\u001b[39m\u001b[33m\"\u001b[39m, palette=\u001b[33m\"\u001b[39m\u001b[33mviridis\u001b[39m\u001b[33m\"\u001b[39m, legend=\u001b[38;5;28;01mFalse\u001b[39;00m)\n",
                        "\u001b[31mNameError\u001b[39m: name 'df' is not defined"
                    ]
                }
            ],
            "source": [
                "# Graficar los datos\n",
                "\n",
                "# Gráfico 1: Las 10 canciones más reproducidas\n",
                "top10 = df.nlargest(10, \"Streams (billions)\")\n",
                "plt.figure(figsize=(12, 6))\n",
                "sns.barplot(data=top10, x=\"Streams (billions)\", y=\"Song\", hue=\"Song\", palette=\"viridis\", legend=False)\n",
                "plt.title(\"Las 10 canciones más reproducidas en Spotify\")\n",
                "plt.xlabel(\"Reproducciones (en miles de millones)\")\n",
                "plt.ylabel(\"Canción\")\n",
                "plt.tight_layout()\n",
                "plt.show()"
            ]
        },
        {
            "cell_type": "code",
            "execution_count": 11,
            "metadata": {},
            "outputs": [
                {
                    "data": {
                        "image/png": "[encoded data removed]",
                        "text/plain": [
                            "<Figure size 1000x500 with 1 Axes>"
                        ]
                    },
                    "metadata": {},
                    "output_type": "display_data"
                }
            ],
            "source": [
                "# Chart 2: Number of songs per year\n",
                "df[\"Year\"] = df[\"Date released\"].dt.year\n",
                "plt.figure(figsize=(10, 5))\n",
                "sns.countplot(data=df, x=\"Year\", order=sorted(df[\"Year\"].dropna().unique()))\n",
                "plt.title(\"Number of Songs in the Ranking by Release Year\")\n",
                "plt.xlabel(\"Year\")\n",
                "plt.ylabel(\"Count\")\n",
                "plt.xticks(rotation=45)\n",
                "plt.tight_layout()\n",
                "plt.show()"
            ]
        },
        {
            "cell_type": "code",
            "execution_count": 12,
            "metadata": {},
            "outputs": [
                {
                    "data": {
                        "image/png": "[encoded data removed]",
                        "text/plain": [
                            "<Figure size 1000x600 with 1 Axes>"
                        ]
                    },
                    "metadata": {},
                    "output_type": "display_data"
                }
            ],
            "source": [
                "# Chart 3: Artists with the most songs in the ranking\n",
                "\n",
                "# Note: Some artists have multiple songs\n",
                "artists = df[\"Artist\"].value_counts().nlargest(10)\n",
                "\n",
                "plt.figure(figsize=(10, 6))\n",
                "sns.barplot(x=artists.values, y=artists.index, hue=artists.index, palette=\"coolwarm\", legend=False)\n",
                "plt.title(\"Artists with the Most Songs in the Ranking\")\n",
                "plt.xlabel(\"Number of Songs\")\n",
                "plt.ylabel(\"Artist\")\n",
                "plt.tight_layout()\n",
                "plt.show()"
            ]
        }
    ],
    "metadata": {
        "kernelspec": {
            "display_name": "Python 3",
            "language": "python",
            "name": "python3"
        },
        "language_info": {
            "codemirror_mode": {
                "name": "ipython",
                "version": 3
            },
            "file_extension": ".py",
            "mimetype": "text/x-python",
            "name": "python",
            "nbconvert_exporter": "python",
            "pygments_lexer": "ipython3",
            "version": "3.11.4"
        },
        "orig_nbformat": 4
    },
    "nbformat": 4,
    "nbformat_minor": 2
}
